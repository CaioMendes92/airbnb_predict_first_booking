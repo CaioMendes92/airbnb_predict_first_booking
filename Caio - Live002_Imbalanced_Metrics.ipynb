{
 "cells": [
  {
   "cell_type": "markdown",
   "id": "26a45a14",
   "metadata": {
    "heading_collapsed": true
   },
   "source": [
    "# 0.0. Entender o Problema"
   ]
  },
  {
   "cell_type": "markdown",
   "id": "62840d68",
   "metadata": {
    "hidden": true
   },
   "source": [
    "-- Objetivo do Problema: 1.0. Previsao do primeiro destino que um usuário irá escolher\n",
    "\n",
    "    -- Porque?\n",
    "        -- Qual o tipo de modelo de negócio do Airbnb?\n",
    "            -- Marketplace (Conectar pessoas que oferecem acomodações com pessoas que estão procurando acomodações)\n",
    "            \n",
    "            -- Oferta (pessoas oferecendo acomodações)\n",
    "                -- Tamanho do portfólio\n",
    "                -- Diversidade/Densidade do portfólio\n",
    "                -- Preço Médio\n",
    "            \n",
    "            -- Demanda (pessoas procurando acomodações)\n",
    "                -- Número de Usuários\n",
    "                -- LTV (Lifetime Value)\n",
    "                -- CAC (Cliente Acquisition Cost)\n",
    "                \n",
    "            -- Gross Revenue = (Fee*Numero cliente) - CAC\n",
    "            \n",
    "    -- Proposta de Solução\n",
    "        -- Modelo de Previsão do primeiro destino de um novo usuário\n",
    "        -- 1.0. Predições e salva em tabela de banco de dados\n",
    "        -- 2.0 API\n",
    "            -- Input: Usuário e Suas Características\n",
    "            -- Output: Usuário e Suas características com a predição do destino.\n",
    "            \n",
    "       "
   ]
  },
  {
   "cell_type": "markdown",
   "id": "53d5a4b3",
   "metadata": {
    "ExecuteTime": {
     "end_time": "2021-06-02T16:27:20.425503Z",
     "start_time": "2021-06-02T16:27:20.421064Z"
    }
   },
   "source": [
    "# Ciclo 01: End to End"
   ]
  },
  {
   "cell_type": "markdown",
   "id": "9fb3a3e3",
   "metadata": {},
   "source": [
    "## 0.0 Imports"
   ]
  },
  {
   "cell_type": "markdown",
   "id": "6ec09cbd",
   "metadata": {
    "ExecuteTime": {
     "end_time": "2021-06-02T16:30:03.544281Z",
     "start_time": "2021-06-02T16:30:03.539917Z"
    }
   },
   "source": [
    "### 0.1 Helper Functions"
   ]
  },
  {
   "cell_type": "code",
   "execution_count": 50,
   "id": "18b02472",
   "metadata": {
    "ExecuteTime": {
     "end_time": "2021-06-29T14:44:45.870583Z",
     "start_time": "2021-06-29T14:44:45.863991Z"
    }
   },
   "outputs": [],
   "source": [
    "import random\n",
    "import pandas as pd\n",
    "from sklearn import model_selection as ms\n",
    "from sklearn import preprocessing as pp\n",
    "from sklearn import metrics as m\n",
    "from scikitplot import metrics as mt\n",
    "from keras  import models as ml\n",
    "from keras import layers as l"
   ]
  },
  {
   "cell_type": "markdown",
   "id": "83bcab6e",
   "metadata": {},
   "source": [
    "### 0.2 Loading Data"
   ]
  },
  {
   "cell_type": "code",
   "execution_count": 20,
   "id": "c9ed13c3",
   "metadata": {
    "ExecuteTime": {
     "end_time": "2021-06-29T13:19:17.724310Z",
     "start_time": "2021-06-29T13:19:16.682476Z"
    }
   },
   "outputs": [
    {
     "name": "stdout",
     "output_type": "stream",
     "text": [
      "total 641120\r\n",
      "616848 sessions.csv   24272 training_users.csv\r\n"
     ]
    }
   ],
   "source": [
    "!ls -s data_set"
   ]
  },
  {
   "cell_type": "code",
   "execution_count": 21,
   "id": "3254c73e",
   "metadata": {
    "ExecuteTime": {
     "end_time": "2021-06-29T13:19:18.845115Z",
     "start_time": "2021-06-29T13:19:17.728937Z"
    }
   },
   "outputs": [
    {
     "data": {
      "text/plain": [
       "(213451, 16)"
      ]
     },
     "execution_count": 21,
     "metadata": {},
     "output_type": "execute_result"
    }
   ],
   "source": [
    "df_raw = pd.read_csv('data_set/training_users.csv', low_memory = True)\n",
    "df_raw.shape"
   ]
  },
  {
   "cell_type": "code",
   "execution_count": 22,
   "id": "f1b654da",
   "metadata": {
    "ExecuteTime": {
     "end_time": "2021-06-29T13:19:18.855251Z",
     "start_time": "2021-06-29T13:19:18.849484Z"
    }
   },
   "outputs": [],
   "source": [
    "#df_sessions = pd.read_csv('data_set/sessions.csv', low_memory=True)\n",
    "#df_sessions.shape\n",
    "\n",
    "#-- Preciso fazer uma granularidade do tipo Usuário/Seção ou só Usuário\n",
    "\n",
    "#-- O número de usuários por granularidade\n",
    "\n",
    "#df_sessions.sort_values('user_id').head()\n",
    "#ordena por usuário e lista os primeiros\n",
    "\n",
    "#df_sessions(df_sessions['user_id']=='00023iyk91')[['user_id','action']].groupby('user_id').count()\n",
    "\n",
    "#Vai mostrar quantas ações foi feita pelo usuário.\n",
    "\n",
    "#df_sessions(df_sessions['user_id']=='00023iyk91')[['user_id','action']].groupby('user_id').value_counts()\n",
    "#conta quantas linhas eu tenho por usuário e por ação.\n",
    "\n",
    "#Voltamos depois nesses dados."
   ]
  },
  {
   "cell_type": "markdown",
   "id": "45ff58e9",
   "metadata": {
    "ExecuteTime": {
     "end_time": "2021-06-02T16:28:58.103598Z",
     "start_time": "2021-06-02T16:28:58.098617Z"
    }
   },
   "source": [
    "## 1.0 Data Description"
   ]
  },
  {
   "cell_type": "code",
   "execution_count": 23,
   "id": "54e7d291",
   "metadata": {
    "ExecuteTime": {
     "end_time": "2021-06-29T13:19:19.118717Z",
     "start_time": "2021-06-29T13:19:18.860269Z"
    }
   },
   "outputs": [],
   "source": [
    "df1 = df_raw.copy()"
   ]
  },
  {
   "cell_type": "code",
   "execution_count": 24,
   "id": "23705477",
   "metadata": {
    "ExecuteTime": {
     "end_time": "2021-06-29T13:19:19.217688Z",
     "start_time": "2021-06-29T13:19:19.123579Z"
    }
   },
   "outputs": [
    {
     "name": "stdout",
     "output_type": "stream",
     "text": [
      "Number of rows: 213451\n",
      "Number of columns: 16\n"
     ]
    }
   ],
   "source": [
    "print('Number of rows: {}'.format(df1.shape[0]))\n",
    "print('Number of columns: {}'.format(df1.shape[1]))"
   ]
  },
  {
   "cell_type": "markdown",
   "id": "cb963f69",
   "metadata": {
    "heading_collapsed": true
   },
   "source": [
    "#### 1.1 Data Type"
   ]
  },
  {
   "cell_type": "code",
   "execution_count": 25,
   "id": "64abc5e7",
   "metadata": {
    "ExecuteTime": {
     "end_time": "2021-06-29T13:19:19.311334Z",
     "start_time": "2021-06-29T13:19:19.222014Z"
    },
    "hidden": true
   },
   "outputs": [
    {
     "data": {
      "text/plain": [
       "id                          object\n",
       "date_account_created        object\n",
       "timestamp_first_active       int64\n",
       "date_first_booking          object\n",
       "gender                      object\n",
       "age                        float64\n",
       "signup_method               object\n",
       "signup_flow                  int64\n",
       "language                    object\n",
       "affiliate_channel           object\n",
       "affiliate_provider          object\n",
       "first_affiliate_tracked     object\n",
       "signup_app                  object\n",
       "first_device_type           object\n",
       "first_browser               object\n",
       "country_destination         object\n",
       "dtype: object"
      ]
     },
     "execution_count": 25,
     "metadata": {},
     "output_type": "execute_result"
    }
   ],
   "source": [
    "df1.dtypes"
   ]
  },
  {
   "cell_type": "markdown",
   "id": "934143af",
   "metadata": {
    "heading_collapsed": true
   },
   "source": [
    "#### 1.2 NA Check"
   ]
  },
  {
   "cell_type": "code",
   "execution_count": 26,
   "id": "de33c0dd",
   "metadata": {
    "ExecuteTime": {
     "end_time": "2021-06-29T13:19:19.585694Z",
     "start_time": "2021-06-29T13:19:19.314535Z"
    },
    "hidden": true
   },
   "outputs": [
    {
     "data": {
      "text/plain": [
       "id                              0\n",
       "date_account_created            0\n",
       "timestamp_first_active          0\n",
       "date_first_booking         124543\n",
       "gender                          0\n",
       "age                         87990\n",
       "signup_method                   0\n",
       "signup_flow                     0\n",
       "language                        0\n",
       "affiliate_channel               0\n",
       "affiliate_provider              0\n",
       "first_affiliate_tracked      6065\n",
       "signup_app                      0\n",
       "first_device_type               0\n",
       "first_browser                   0\n",
       "country_destination             0\n",
       "dtype: int64"
      ]
     },
     "execution_count": 26,
     "metadata": {},
     "output_type": "execute_result"
    }
   ],
   "source": [
    "df1.isna().sum()"
   ]
  },
  {
   "cell_type": "code",
   "execution_count": 27,
   "id": "56071e14",
   "metadata": {
    "ExecuteTime": {
     "end_time": "2021-06-29T13:19:19.782029Z",
     "start_time": "2021-06-29T13:19:19.588822Z"
    },
    "hidden": true
   },
   "outputs": [
    {
     "data": {
      "text/plain": [
       "(68171, 16)"
      ]
     },
     "execution_count": 27,
     "metadata": {},
     "output_type": "execute_result"
    }
   ],
   "source": [
    "# Removendo dados faltantes\n",
    "df1 = df1.dropna()\n",
    "df1.shape"
   ]
  },
  {
   "cell_type": "markdown",
   "id": "c72293d7",
   "metadata": {
    "heading_collapsed": true
   },
   "source": [
    "#### 1.3 Change Data Type"
   ]
  },
  {
   "cell_type": "code",
   "execution_count": 28,
   "id": "7e3632f9",
   "metadata": {
    "ExecuteTime": {
     "end_time": "2021-06-29T13:19:20.368325Z",
     "start_time": "2021-06-29T13:19:19.785407Z"
    },
    "hidden": true
   },
   "outputs": [],
   "source": [
    "# date_account_created\n",
    "df1['date_account_created'] = pd.to_datetime( df1['date_account_created'] )\n",
    "\n",
    "\n",
    "# timestamp_first_active\n",
    "df1['timestamp_first_active'] = pd.to_datetime(df1['timestamp_first_active'],format='%Y%m%d%H%M%S')\n",
    "\n",
    "# date_first_booking\n",
    "df1['date_first_booking'] = pd.to_datetime(df1['date_first_booking'])\n",
    "\n",
    "# age\n",
    "df1['age'] = df1['age'].astype(int)"
   ]
  },
  {
   "cell_type": "markdown",
   "id": "d3d0b038",
   "metadata": {
    "heading_collapsed": true
   },
   "source": [
    "#### 1.4 Check Balanced Data"
   ]
  },
  {
   "cell_type": "code",
   "execution_count": 29,
   "id": "07d1a88d",
   "metadata": {
    "ExecuteTime": {
     "end_time": "2021-06-29T13:19:20.399762Z",
     "start_time": "2021-06-29T13:19:20.378603Z"
    },
    "hidden": true
   },
   "outputs": [
    {
     "data": {
      "text/plain": [
       "US       0.708864\n",
       "other    0.110854\n",
       "FR       0.054085\n",
       "IT       0.029763\n",
       "GB       0.025935\n",
       "ES       0.024864\n",
       "CA       0.015696\n",
       "DE       0.012454\n",
       "NL       0.008801\n",
       "AU       0.006366\n",
       "PT       0.002318\n",
       "Name: country_destination, dtype: float64"
      ]
     },
     "execution_count": 29,
     "metadata": {},
     "output_type": "execute_result"
    }
   ],
   "source": [
    "df1['country_destination'].value_counts(normalize=True)"
   ]
  },
  {
   "cell_type": "markdown",
   "id": "50f607e4",
   "metadata": {},
   "source": [
    "## 2.0. Data Filtering"
   ]
  },
  {
   "cell_type": "code",
   "execution_count": 30,
   "id": "cb88de19",
   "metadata": {
    "ExecuteTime": {
     "end_time": "2021-06-29T13:19:20.520609Z",
     "start_time": "2021-06-29T13:19:20.402797Z"
    }
   },
   "outputs": [],
   "source": [
    "df2 = df1.copy()"
   ]
  },
  {
   "cell_type": "markdown",
   "id": "7a35daaa",
   "metadata": {},
   "source": [
    "#### 2.1 Filtering Rows"
   ]
  },
  {
   "cell_type": "code",
   "execution_count": null,
   "id": "42a55f48",
   "metadata": {},
   "outputs": [],
   "source": []
  },
  {
   "cell_type": "markdown",
   "id": "22230cde",
   "metadata": {},
   "source": [
    "#### 2.2 Columns Selection"
   ]
  },
  {
   "cell_type": "code",
   "execution_count": null,
   "id": "cf3baa91",
   "metadata": {},
   "outputs": [],
   "source": []
  },
  {
   "cell_type": "markdown",
   "id": "ba035f34",
   "metadata": {},
   "source": [
    "## 3.0 Data Preparation"
   ]
  },
  {
   "cell_type": "code",
   "execution_count": 31,
   "id": "e4e8f4e5",
   "metadata": {
    "ExecuteTime": {
     "end_time": "2021-06-29T13:19:20.646513Z",
     "start_time": "2021-06-29T13:19:20.523496Z"
    }
   },
   "outputs": [],
   "source": [
    "df3 = df2.copy()"
   ]
  },
  {
   "cell_type": "code",
   "execution_count": 32,
   "id": "e3e483f4",
   "metadata": {
    "ExecuteTime": {
     "end_time": "2021-06-29T13:19:20.866357Z",
     "start_time": "2021-06-29T13:19:20.648252Z"
    }
   },
   "outputs": [],
   "source": [
    "# Dummy variable\n",
    "df3_dummy = pd.get_dummies(df3.drop(['id', 'country_destination'], axis = 1))\n",
    "\n",
    "#Join id and country destination\n",
    "df3 = pd.concat([df3[['id', 'country_destination']], df3_dummy], axis = 1)"
   ]
  },
  {
   "cell_type": "markdown",
   "id": "38f06b77",
   "metadata": {},
   "source": [
    "## 4.0 Feature Selection"
   ]
  },
  {
   "cell_type": "code",
   "execution_count": 33,
   "id": "b7e7a87b",
   "metadata": {
    "ExecuteTime": {
     "end_time": "2021-06-29T13:19:20.883189Z",
     "start_time": "2021-06-29T13:19:20.868582Z"
    }
   },
   "outputs": [],
   "source": [
    "cols_drop=['date_account_created', 'timestamp_first_active', 'date_first_booking'] #original dates\n",
    "df4 = df3.drop(cols_drop, axis = 1)"
   ]
  },
  {
   "cell_type": "code",
   "execution_count": 34,
   "id": "d544377a",
   "metadata": {
    "ExecuteTime": {
     "end_time": "2021-06-29T13:19:20.998696Z",
     "start_time": "2021-06-29T13:19:20.886303Z"
    }
   },
   "outputs": [
    {
     "data": {
      "text/html": [
       "<div>\n",
       "<style scoped>\n",
       "    .dataframe tbody tr th:only-of-type {\n",
       "        vertical-align: middle;\n",
       "    }\n",
       "\n",
       "    .dataframe tbody tr th {\n",
       "        vertical-align: top;\n",
       "    }\n",
       "\n",
       "    .dataframe thead th {\n",
       "        text-align: right;\n",
       "    }\n",
       "</style>\n",
       "<table border=\"1\" class=\"dataframe\">\n",
       "  <thead>\n",
       "    <tr style=\"text-align: right;\">\n",
       "      <th></th>\n",
       "      <th>171864</th>\n",
       "    </tr>\n",
       "  </thead>\n",
       "  <tbody>\n",
       "    <tr>\n",
       "      <th>id</th>\n",
       "      <td>guqqqqofhm</td>\n",
       "    </tr>\n",
       "    <tr>\n",
       "      <th>country_destination</th>\n",
       "      <td>US</td>\n",
       "    </tr>\n",
       "    <tr>\n",
       "      <th>age</th>\n",
       "      <td>39</td>\n",
       "    </tr>\n",
       "    <tr>\n",
       "      <th>signup_flow</th>\n",
       "      <td>0</td>\n",
       "    </tr>\n",
       "    <tr>\n",
       "      <th>gender_-unknown-</th>\n",
       "      <td>0</td>\n",
       "    </tr>\n",
       "    <tr>\n",
       "      <th>...</th>\n",
       "      <td>...</td>\n",
       "    </tr>\n",
       "    <tr>\n",
       "      <th>first_browser_Sogou Explorer</th>\n",
       "      <td>0</td>\n",
       "    </tr>\n",
       "    <tr>\n",
       "      <th>first_browser_Stainless</th>\n",
       "      <td>0</td>\n",
       "    </tr>\n",
       "    <tr>\n",
       "      <th>first_browser_TenFourFox</th>\n",
       "      <td>0</td>\n",
       "    </tr>\n",
       "    <tr>\n",
       "      <th>first_browser_TheWorld Browser</th>\n",
       "      <td>0</td>\n",
       "    </tr>\n",
       "    <tr>\n",
       "      <th>first_browser_Yandex.Browser</th>\n",
       "      <td>0</td>\n",
       "    </tr>\n",
       "  </tbody>\n",
       "</table>\n",
       "<p>114 rows × 1 columns</p>\n",
       "</div>"
      ],
      "text/plain": [
       "                                    171864\n",
       "id                              guqqqqofhm\n",
       "country_destination                     US\n",
       "age                                     39\n",
       "signup_flow                              0\n",
       "gender_-unknown-                         0\n",
       "...                                    ...\n",
       "first_browser_Sogou Explorer             0\n",
       "first_browser_Stainless                  0\n",
       "first_browser_TenFourFox                 0\n",
       "first_browser_TheWorld Browser           0\n",
       "first_browser_Yandex.Browser             0\n",
       "\n",
       "[114 rows x 1 columns]"
      ]
     },
     "execution_count": 34,
     "metadata": {},
     "output_type": "execute_result"
    }
   ],
   "source": [
    "df4.sample().T"
   ]
  },
  {
   "cell_type": "markdown",
   "id": "7c76cc7a",
   "metadata": {},
   "source": [
    "## 5.0 Machine Learning Model"
   ]
  },
  {
   "cell_type": "code",
   "execution_count": 35,
   "id": "3b8c148a",
   "metadata": {
    "ExecuteTime": {
     "end_time": "2021-06-29T13:19:21.117415Z",
     "start_time": "2021-06-29T13:19:21.008141Z"
    }
   },
   "outputs": [],
   "source": [
    "X = df4.drop('country_destination', axis = 1)\n",
    "y = df4['country_destination'].copy()"
   ]
  },
  {
   "cell_type": "code",
   "execution_count": 36,
   "id": "6f74299c",
   "metadata": {
    "ExecuteTime": {
     "end_time": "2021-06-29T13:19:21.262378Z",
     "start_time": "2021-06-29T13:19:21.120402Z"
    }
   },
   "outputs": [],
   "source": [
    "#Split dataset into training and test\n",
    "\n",
    "X_train, X_test, y_train, y_test = ms.train_test_split (X,y, test_size = 0.2, random_state = 32)"
   ]
  },
  {
   "cell_type": "code",
   "execution_count": 37,
   "id": "af97314d",
   "metadata": {
    "ExecuteTime": {
     "end_time": "2021-06-29T13:19:21.298803Z",
     "start_time": "2021-06-29T13:19:21.266371Z"
    }
   },
   "outputs": [],
   "source": [
    "x_train = X_train.drop('id', axis = 1)\n",
    "x_test = X_test.drop('id', axis = 1)"
   ]
  },
  {
   "cell_type": "markdown",
   "id": "b5ada64e",
   "metadata": {
    "ExecuteTime": {
     "end_time": "2021-06-29T14:43:34.969381Z",
     "start_time": "2021-06-29T14:43:34.963313Z"
    }
   },
   "source": [
    "## 5.1 Baseline Model"
   ]
  },
  {
   "cell_type": "code",
   "execution_count": 62,
   "id": "44a14e83",
   "metadata": {
    "ExecuteTime": {
     "end_time": "2021-06-29T14:56:26.351730Z",
     "start_time": "2021-06-29T14:56:26.318744Z"
    }
   },
   "outputs": [],
   "source": [
    "country_destination_list = df1['country_destination'].drop_duplicates().sort_values().tolist()\n",
    "country_destination_weights = df1['country_destination'].value_counts(normalize=True).sort_index().tolist()\n",
    "k_num = y_test.shape[0]"
   ]
  },
  {
   "cell_type": "code",
   "execution_count": 61,
   "id": "16a42cbf",
   "metadata": {
    "ExecuteTime": {
     "end_time": "2021-06-29T14:56:07.956728Z",
     "start_time": "2021-06-29T14:56:07.915691Z"
    }
   },
   "outputs": [
    {
     "data": {
      "text/plain": [
       "[0.00636634345982896,\n",
       " 0.01569582373736633,\n",
       " 0.012453976030863564,\n",
       " 0.024863945079285913,\n",
       " 0.05408458142025201,\n",
       " 0.02593478165202212,\n",
       " 0.02976338912440774,\n",
       " 0.008801396488242802,\n",
       " 0.002317701075237271,\n",
       " 0.7088644731630752,\n",
       " 0.11085358876941809]"
      ]
     },
     "execution_count": 61,
     "metadata": {},
     "output_type": "execute_result"
    }
   ],
   "source": [
    "df1['country_destination'].value_counts(normalize=True).sort_index().tolist()"
   ]
  },
  {
   "cell_type": "code",
   "execution_count": 65,
   "id": "f0e91671",
   "metadata": {
    "ExecuteTime": {
     "end_time": "2021-06-29T14:56:55.494076Z",
     "start_time": "2021-06-29T14:56:55.448843Z"
    }
   },
   "outputs": [
    {
     "data": {
      "text/plain": [
       "13635"
      ]
     },
     "execution_count": 65,
     "metadata": {},
     "output_type": "execute_result"
    }
   ],
   "source": [
    "yhat_random = random.choices(population=country_destination_list, \n",
    "                             weights =country_destination_weights,k = k_num)\n",
    "len(yhat_random)"
   ]
  },
  {
   "cell_type": "code",
   "execution_count": 66,
   "id": "66a12f80",
   "metadata": {
    "ExecuteTime": {
     "end_time": "2021-06-29T14:56:59.580529Z",
     "start_time": "2021-06-29T14:56:58.432265Z"
    }
   },
   "outputs": [
    {
     "name": "stdout",
     "output_type": "stream",
     "text": [
      "Accuracy: 0.521085441877521\n",
      "Balanced Accuracy: 0.08984249599002934\n",
      "Kappa Score:-0.0023346273189750466\n",
      "              precision    recall  f1-score   support\n",
      "\n",
      "          AU       0.00      0.00      0.00       101\n",
      "          CA       0.02      0.02      0.02       214\n",
      "          DE       0.01      0.01      0.01       170\n",
      "          ES       0.04      0.04      0.04       345\n",
      "          FR       0.05      0.06      0.06       710\n",
      "          GB       0.01      0.01      0.01       344\n",
      "          IT       0.03      0.02      0.02       423\n",
      "          NL       0.01      0.01      0.01       128\n",
      "          PT       0.00      0.00      0.00        36\n",
      "          US       0.71      0.71      0.71      9624\n",
      "       other       0.10      0.10      0.10      1540\n",
      "\n",
      "    accuracy                           0.52     13635\n",
      "   macro avg       0.09      0.09      0.09     13635\n",
      "weighted avg       0.52      0.52      0.52     13635\n",
      "\n"
     ]
    },
    {
     "data": {
      "text/plain": [
       "<AxesSubplot:title={'center':'Confusion Matrix'}, xlabel='Predicted label', ylabel='True label'>"
      ]
     },
     "execution_count": 66,
     "metadata": {},
     "output_type": "execute_result"
    },
    {
     "data": {
      "image/png": "[encoded data removed]",
      "text/plain": [
       "<Figure size 864x864 with 2 Axes>"
      ]
     },
     "metadata": {
      "needs_background": "light"
     },
     "output_type": "display_data"
    }
   ],
   "source": [
    "# accuracy\n",
    "acc_random = m.accuracy_score(y_test_nn,yhat_random)\n",
    "print('Accuracy: {}'.format(acc_random))\n",
    "\n",
    "# Balanced Accuracy\n",
    "balanced_acc_random = m.balanced_accuracy_score(y_test_nn,yhat_random)\n",
    "print(f'Balanced Accuracy: {balanced_acc_random}')\n",
    "\n",
    "# Kappa Metrics\n",
    "kappa_random = m.cohen_kappa_score(y_test_nn,yhat_random)\n",
    "print(f'Kappa Score:{kappa_random}')\n",
    "\n",
    "# Classification Report\n",
    "print(m.classification_report(y_test_nn, yhat_random))\n",
    "\n",
    "# confusion matrix\n",
    "mt.plot_confusion_matrix(y_test_nn, yhat_random, normalize=False, figsize = (12,12))"
   ]
  },
  {
   "cell_type": "code",
   "execution_count": null,
   "id": "2a37a2e2",
   "metadata": {},
   "outputs": [],
   "source": []
  },
  {
   "cell_type": "code",
   "execution_count": null,
   "id": "f08b4d1f",
   "metadata": {},
   "outputs": [],
   "source": []
  },
  {
   "cell_type": "code",
   "execution_count": null,
   "id": "be49b7b8",
   "metadata": {},
   "outputs": [],
   "source": []
  },
  {
   "cell_type": "markdown",
   "id": "d2887a57",
   "metadata": {},
   "source": [
    "## 5.2 Neural Network - MLP"
   ]
  },
  {
   "cell_type": "code",
   "execution_count": 38,
   "id": "020ea2d6",
   "metadata": {
    "ExecuteTime": {
     "end_time": "2021-06-29T13:19:21.565757Z",
     "start_time": "2021-06-29T13:19:21.301813Z"
    }
   },
   "outputs": [],
   "source": [
    "ohe = pp.OneHotEncoder()\n",
    "y_train_nn = ohe.fit_transform(y_train.values.reshape(-1,1)).toarray()"
   ]
  },
  {
   "cell_type": "code",
   "execution_count": 39,
   "id": "f7eb924a",
   "metadata": {
    "ExecuteTime": {
     "end_time": "2021-06-29T13:19:21.639054Z",
     "start_time": "2021-06-29T13:19:21.569050Z"
    }
   },
   "outputs": [
    {
     "data": {
      "text/plain": [
       "(54536, 112)"
      ]
     },
     "execution_count": 39,
     "metadata": {},
     "output_type": "execute_result"
    }
   ],
   "source": [
    "x_train.shape"
   ]
  },
  {
   "cell_type": "code",
   "execution_count": 40,
   "id": "bbed18ab",
   "metadata": {
    "ExecuteTime": {
     "end_time": "2021-06-29T13:26:14.335450Z",
     "start_time": "2021-06-29T13:19:21.641650Z"
    }
   },
   "outputs": [
    {
     "name": "stdout",
     "output_type": "stream",
     "text": [
      "Epoch 1/100\n",
      "1705/1705 [==============================] - 27s 3ms/step - loss: 1.4071 - accuracy: 0.6938\n",
      "Epoch 2/100\n",
      "1705/1705 [==============================] - 4s 3ms/step - loss: 1.2911 - accuracy: 0.7072\n",
      "Epoch 3/100\n",
      "1705/1705 [==============================] - 4s 2ms/step - loss: 1.2537 - accuracy: 0.7071\n",
      "Epoch 4/100\n",
      "1705/1705 [==============================] - 4s 2ms/step - loss: 1.2053 - accuracy: 0.7074\n",
      "Epoch 5/100\n",
      "1705/1705 [==============================] - 4s 2ms/step - loss: 1.2157 - accuracy: 0.7080\n",
      "Epoch 6/100\n",
      "1705/1705 [==============================] - 4s 2ms/step - loss: 1.1880 - accuracy: 0.7065\n",
      "Epoch 7/100\n",
      "1705/1705 [==============================] - 4s 3ms/step - loss: 1.1736 - accuracy: 0.7082\n",
      "Epoch 8/100\n",
      "1705/1705 [==============================] - 6s 3ms/step - loss: 1.1440 - accuracy: 0.7124\n",
      "Epoch 9/100\n",
      "1705/1705 [==============================] - 5s 3ms/step - loss: 1.1498 - accuracy: 0.7088\n",
      "Epoch 10/100\n",
      "1705/1705 [==============================] - 5s 3ms/step - loss: 1.1313 - accuracy: 0.7118\n",
      "Epoch 11/100\n",
      "1705/1705 [==============================] - 5s 3ms/step - loss: 1.1417 - accuracy: 0.7075\n",
      "Epoch 12/100\n",
      "1705/1705 [==============================] - 5s 3ms/step - loss: 1.1390 - accuracy: 0.7066\n",
      "Epoch 13/100\n",
      "1705/1705 [==============================] - 5s 3ms/step - loss: 1.1240 - accuracy: 0.7127\n",
      "Epoch 14/100\n",
      "1705/1705 [==============================] - 5s 3ms/step - loss: 1.1288 - accuracy: 0.7096\n",
      "Epoch 15/100\n",
      "1705/1705 [==============================] - 5s 3ms/step - loss: 1.1189 - accuracy: 0.7121\n",
      "Epoch 16/100\n",
      "1705/1705 [==============================] - 5s 3ms/step - loss: 1.1234 - accuracy: 0.7111\n",
      "Epoch 17/100\n",
      "1705/1705 [==============================] - 5s 3ms/step - loss: 1.1296 - accuracy: 0.7091\n",
      "Epoch 18/100\n",
      "1705/1705 [==============================] - 5s 3ms/step - loss: 1.1336 - accuracy: 0.7061\n",
      "Epoch 19/100\n",
      "1705/1705 [==============================] - 5s 3ms/step - loss: 1.1292 - accuracy: 0.7085\n",
      "Epoch 20/100\n",
      "1705/1705 [==============================] - 5s 3ms/step - loss: 1.1166 - accuracy: 0.7113\n",
      "Epoch 21/100\n",
      "1705/1705 [==============================] - 5s 3ms/step - loss: 1.1221 - accuracy: 0.7112\n",
      "Epoch 22/100\n",
      "1705/1705 [==============================] - 5s 3ms/step - loss: 1.1159 - accuracy: 0.7129\n",
      "Epoch 23/100\n",
      "1705/1705 [==============================] - 4s 3ms/step - loss: 1.1266 - accuracy: 0.7089\n",
      "Epoch 24/100\n",
      "1705/1705 [==============================] - 4s 3ms/step - loss: 1.1218 - accuracy: 0.7105\n",
      "Epoch 25/100\n",
      "1705/1705 [==============================] - 4s 3ms/step - loss: 1.1231 - accuracy: 0.7094\n",
      "Epoch 26/100\n",
      "1705/1705 [==============================] - 5s 3ms/step - loss: 1.1229 - accuracy: 0.7091\n",
      "Epoch 27/100\n",
      "1705/1705 [==============================] - 5s 3ms/step - loss: 1.1228 - accuracy: 0.7086\n",
      "Epoch 28/100\n",
      "1705/1705 [==============================] - 5s 3ms/step - loss: 1.1156 - accuracy: 0.7106\n",
      "Epoch 29/100\n",
      "1705/1705 [==============================] - 4s 3ms/step - loss: 1.1159 - accuracy: 0.7097\n",
      "Epoch 30/100\n",
      "1705/1705 [==============================] - 4s 3ms/step - loss: 1.1180 - accuracy: 0.7101\n",
      "Epoch 31/100\n",
      "1705/1705 [==============================] - 4s 3ms/step - loss: 1.1190 - accuracy: 0.7088\n",
      "Epoch 32/100\n",
      "1705/1705 [==============================] - 5s 3ms/step - loss: 1.1150 - accuracy: 0.7099\n",
      "Epoch 33/100\n",
      "1705/1705 [==============================] - 5s 3ms/step - loss: 1.1249 - accuracy: 0.7075\n",
      "Epoch 34/100\n",
      "1705/1705 [==============================] - 4s 3ms/step - loss: 1.1121 - accuracy: 0.7107\n",
      "Epoch 35/100\n",
      "1705/1705 [==============================] - 5s 3ms/step - loss: 1.1215 - accuracy: 0.7082\n",
      "Epoch 36/100\n",
      "1705/1705 [==============================] - 5s 3ms/step - loss: 1.1138 - accuracy: 0.7105\n",
      "Epoch 37/100\n",
      "1705/1705 [==============================] - 5s 3ms/step - loss: 1.1057 - accuracy: 0.7127\n",
      "Epoch 38/100\n",
      "1705/1705 [==============================] - 4s 3ms/step - loss: 1.1047 - accuracy: 0.7129\n",
      "Epoch 39/100\n",
      "1705/1705 [==============================] - 5s 3ms/step - loss: 1.1066 - accuracy: 0.7130\n",
      "Epoch 40/100\n",
      "1705/1705 [==============================] - 4s 3ms/step - loss: 1.1079 - accuracy: 0.7098\n",
      "Epoch 41/100\n",
      "1705/1705 [==============================] - 5s 3ms/step - loss: 1.1252 - accuracy: 0.7062\n",
      "Epoch 42/100\n",
      "1705/1705 [==============================] - 4s 3ms/step - loss: 1.1065 - accuracy: 0.7113\n",
      "Epoch 43/100\n",
      "1705/1705 [==============================] - 5s 3ms/step - loss: 1.1223 - accuracy: 0.7064\n",
      "Epoch 44/100\n",
      "1705/1705 [==============================] - 4s 3ms/step - loss: 1.1086 - accuracy: 0.7106\n",
      "Epoch 45/100\n",
      "1705/1705 [==============================] - 5s 3ms/step - loss: 1.1066 - accuracy: 0.7106\n",
      "Epoch 46/100\n",
      "1705/1705 [==============================] - 4s 3ms/step - loss: 1.1142 - accuracy: 0.7089\n",
      "Epoch 47/100\n",
      "1705/1705 [==============================] - 5s 3ms/step - loss: 1.1153 - accuracy: 0.7091\n",
      "Epoch 48/100\n",
      "1705/1705 [==============================] - 5s 3ms/step - loss: 1.1047 - accuracy: 0.7113\n",
      "Epoch 49/100\n",
      "1705/1705 [==============================] - 5s 3ms/step - loss: 1.1136 - accuracy: 0.7080\n",
      "Epoch 50/100\n",
      "1705/1705 [==============================] - 5s 3ms/step - loss: 1.1039 - accuracy: 0.7108\n",
      "Epoch 51/100\n",
      "1705/1705 [==============================] - 6s 3ms/step - loss: 1.1020 - accuracy: 0.7126\n",
      "Epoch 52/100\n",
      "1705/1705 [==============================] - 5s 3ms/step - loss: 1.0991 - accuracy: 0.7140\n",
      "Epoch 53/100\n",
      "1705/1705 [==============================] - 5s 3ms/step - loss: 1.1091 - accuracy: 0.7099\n",
      "Epoch 54/100\n",
      "1705/1705 [==============================] - 5s 3ms/step - loss: 1.1028 - accuracy: 0.7098\n",
      "Epoch 55/100\n",
      "1705/1705 [==============================] - 4s 2ms/step - loss: 1.0916 - accuracy: 0.7146\n",
      "Epoch 56/100\n",
      "1705/1705 [==============================] - 4s 2ms/step - loss: 1.1048 - accuracy: 0.7099\n",
      "Epoch 57/100\n",
      "1705/1705 [==============================] - 5s 3ms/step - loss: 1.1072 - accuracy: 0.7097\n",
      "Epoch 58/100\n",
      "1705/1705 [==============================] - 5s 3ms/step - loss: 1.1085 - accuracy: 0.7099\n",
      "Epoch 59/100\n",
      "1705/1705 [==============================] - 5s 3ms/step - loss: 1.1048 - accuracy: 0.7115\n",
      "Epoch 60/100\n",
      "1705/1705 [==============================] - 5s 3ms/step - loss: 1.1013 - accuracy: 0.7128\n",
      "Epoch 61/100\n",
      "1705/1705 [==============================] - 5s 3ms/step - loss: 1.0991 - accuracy: 0.7110\n",
      "Epoch 62/100\n",
      "1705/1705 [==============================] - 5s 3ms/step - loss: 1.1070 - accuracy: 0.7102\n",
      "Epoch 63/100\n",
      "1705/1705 [==============================] - 5s 3ms/step - loss: 1.0966 - accuracy: 0.7120\n",
      "Epoch 64/100\n",
      "1705/1705 [==============================] - 5s 3ms/step - loss: 1.0938 - accuracy: 0.7140\n",
      "Epoch 65/100\n",
      "1705/1705 [==============================] - 3s 2ms/step - loss: 1.1017 - accuracy: 0.7120\n",
      "Epoch 66/100\n",
      "1705/1705 [==============================] - 3s 2ms/step - loss: 1.0958 - accuracy: 0.7124\n",
      "Epoch 67/100\n",
      "1705/1705 [==============================] - 3s 1ms/step - loss: 1.1060 - accuracy: 0.7098\n",
      "Epoch 68/100\n",
      "1705/1705 [==============================] - 2s 1ms/step - loss: 1.1056 - accuracy: 0.7104\n",
      "Epoch 69/100\n",
      "1705/1705 [==============================] - 2s 1ms/step - loss: 1.0999 - accuracy: 0.7110\n",
      "Epoch 70/100\n",
      "1705/1705 [==============================] - 2s 1ms/step - loss: 1.1057 - accuracy: 0.7084\n",
      "Epoch 71/100\n",
      "1705/1705 [==============================] - 3s 1ms/step - loss: 1.0971 - accuracy: 0.7131\n",
      "Epoch 72/100\n",
      "1705/1705 [==============================] - 3s 1ms/step - loss: 1.1003 - accuracy: 0.7113\n",
      "Epoch 73/100\n",
      "1705/1705 [==============================] - 3s 2ms/step - loss: 1.1029 - accuracy: 0.7113\n",
      "Epoch 74/100\n",
      "1705/1705 [==============================] - 3s 2ms/step - loss: 1.1002 - accuracy: 0.7123\n",
      "Epoch 75/100\n",
      "1705/1705 [==============================] - 3s 1ms/step - loss: 1.1111 - accuracy: 0.7072\n",
      "Epoch 76/100\n",
      "1705/1705 [==============================] - 3s 1ms/step - loss: 1.0932 - accuracy: 0.7133\n",
      "Epoch 77/100\n",
      "1705/1705 [==============================] - 3s 1ms/step - loss: 1.0863 - accuracy: 0.7175\n",
      "Epoch 78/100\n",
      "1705/1705 [==============================] - 3s 2ms/step - loss: 1.0884 - accuracy: 0.7138\n",
      "Epoch 79/100\n"
     ]
    },
    {
     "name": "stdout",
     "output_type": "stream",
     "text": [
      "1705/1705 [==============================] - 2s 1ms/step - loss: 1.0897 - accuracy: 0.7140\n",
      "Epoch 80/100\n",
      "1705/1705 [==============================] - 3s 1ms/step - loss: 1.1001 - accuracy: 0.7111\n",
      "Epoch 81/100\n",
      "1705/1705 [==============================] - 2s 1ms/step - loss: 1.0945 - accuracy: 0.7122\n",
      "Epoch 82/100\n",
      "1705/1705 [==============================] - 2s 1ms/step - loss: 1.0920 - accuracy: 0.7145\n",
      "Epoch 83/100\n",
      "1705/1705 [==============================] - 2s 1ms/step - loss: 1.0952 - accuracy: 0.7127\n",
      "Epoch 84/100\n",
      "1705/1705 [==============================] - 2s 1ms/step - loss: 1.0932 - accuracy: 0.7134\n",
      "Epoch 85/100\n",
      "1705/1705 [==============================] - 2s 1ms/step - loss: 1.0980 - accuracy: 0.7098\n",
      "Epoch 86/100\n",
      "1705/1705 [==============================] - 2s 1ms/step - loss: 1.1014 - accuracy: 0.7107\n",
      "Epoch 87/100\n",
      "1705/1705 [==============================] - 3s 1ms/step - loss: 1.0988 - accuracy: 0.7124\n",
      "Epoch 88/100\n",
      "1705/1705 [==============================] - 2s 1ms/step - loss: 1.0932 - accuracy: 0.7131\n",
      "Epoch 89/100\n",
      "1705/1705 [==============================] - 2s 1ms/step - loss: 1.0957 - accuracy: 0.7114\n",
      "Epoch 90/100\n",
      "1705/1705 [==============================] - 2s 1ms/step - loss: 1.0879 - accuracy: 0.7143\n",
      "Epoch 91/100\n",
      "1705/1705 [==============================] - 2s 1ms/step - loss: 1.0987 - accuracy: 0.7102\n",
      "Epoch 92/100\n",
      "1705/1705 [==============================] - 2s 1ms/step - loss: 1.0883 - accuracy: 0.7146\n",
      "Epoch 93/100\n",
      "1705/1705 [==============================] - 2s 1ms/step - loss: 1.0887 - accuracy: 0.7141\n",
      "Epoch 94/100\n",
      "1705/1705 [==============================] - 2s 1ms/step - loss: 1.1004 - accuracy: 0.7091\n",
      "Epoch 95/100\n",
      "1705/1705 [==============================] - 2s 1ms/step - loss: 1.0900 - accuracy: 0.7153\n",
      "Epoch 96/100\n",
      "1705/1705 [==============================] - 2s 1ms/step - loss: 1.0816 - accuracy: 0.7166\n",
      "Epoch 97/100\n",
      "1705/1705 [==============================] - 2s 1ms/step - loss: 1.0984 - accuracy: 0.7112\n",
      "Epoch 98/100\n",
      "1705/1705 [==============================] - 2s 1ms/step - loss: 1.0821 - accuracy: 0.7165\n",
      "Epoch 99/100\n",
      "1705/1705 [==============================] - 2s 1ms/step - loss: 1.1012 - accuracy: 0.7108\n",
      "Epoch 100/100\n",
      "1705/1705 [==============================] - 2s 1ms/step - loss: 1.1009 - accuracy: 0.7105\n"
     ]
    },
    {
     "data": {
      "text/plain": [
       "<keras.callbacks.History at 0x7ffb5f8b7400>"
      ]
     },
     "execution_count": 40,
     "metadata": {},
     "output_type": "execute_result"
    }
   ],
   "source": [
    "#Model Definition\n",
    "\n",
    "model = ml.Sequential()\n",
    "model.add(l.Dense(128, input_dim=x_train.shape[1], activation='relu'))\n",
    "model.add(l.Dense(11, activation='softmax'))\n",
    "\n",
    "#Model Compile\n",
    "model.compile(loss='categorical_crossentropy',optimizer='adam', metrics=['accuracy'])\n",
    "\n",
    "#Train model\n",
    "model.fit(x_train, y_train_nn, epochs = 100)"
   ]
  },
  {
   "cell_type": "code",
   "execution_count": null,
   "id": "fc7288ef",
   "metadata": {},
   "outputs": [],
   "source": []
  },
  {
   "cell_type": "markdown",
   "id": "0ac34375",
   "metadata": {},
   "source": [
    "## 6.0 NN Performance"
   ]
  },
  {
   "cell_type": "code",
   "execution_count": 41,
   "id": "d0a25841",
   "metadata": {
    "ExecuteTime": {
     "end_time": "2021-06-29T13:26:15.047785Z",
     "start_time": "2021-06-29T13:26:14.337670Z"
    }
   },
   "outputs": [],
   "source": [
    "# prediction\n",
    "pred_nn = model.predict(x_test)\n",
    "\n",
    "# invert prediction\n",
    "yhat_nn = ohe.inverse_transform(pred_nn)\n",
    "\n",
    "# prediction prepare\n",
    "y_test_nn = y_test.to_numpy()\n",
    "\n",
    "yhat_nn = yhat_nn.reshape(1,-1)[0]"
   ]
  },
  {
   "cell_type": "code",
   "execution_count": 43,
   "id": "aa454a14",
   "metadata": {
    "ExecuteTime": {
     "end_time": "2021-06-29T13:56:40.175935Z",
     "start_time": "2021-06-29T13:56:40.107606Z"
    }
   },
   "outputs": [
    {
     "data": {
      "text/plain": [
       "0.09063041922937637"
      ]
     },
     "execution_count": 43,
     "metadata": {},
     "output_type": "execute_result"
    }
   ],
   "source": [
    "# Balanced Accuracy\n",
    "m.balanced_accuracy_score(y_test_nn,yhat_nn)"
   ]
  },
  {
   "cell_type": "code",
   "execution_count": 48,
   "id": "ac01fc89",
   "metadata": {
    "ExecuteTime": {
     "end_time": "2021-06-29T14:10:43.973783Z",
     "start_time": "2021-06-29T14:10:42.356097Z"
    }
   },
   "outputs": [
    {
     "name": "stdout",
     "output_type": "stream",
     "text": [
      "Accuracy: 0.7028969563623029\n",
      "Balanced Accuracy: 0.09063041922937637\n",
      "Kappa Score:-0.0014625584705192374\n"
     ]
    },
    {
     "name": "stderr",
     "output_type": "stream",
     "text": [
      "/home/caio/.pyenv/versions/3.8.0/envs/airbnb_predict_first_booking/lib/python3.8/site-packages/sklearn/metrics/_classification.py:1248: UndefinedMetricWarning: Precision and F-score are ill-defined and being set to 0.0 in labels with no predicted samples. Use `zero_division` parameter to control this behavior.\n",
      "  _warn_prf(average, modifier, msg_start, len(result))\n",
      "/home/caio/.pyenv/versions/3.8.0/envs/airbnb_predict_first_booking/lib/python3.8/site-packages/sklearn/metrics/_classification.py:1248: UndefinedMetricWarning: Precision and F-score are ill-defined and being set to 0.0 in labels with no predicted samples. Use `zero_division` parameter to control this behavior.\n",
      "  _warn_prf(average, modifier, msg_start, len(result))\n",
      "/home/caio/.pyenv/versions/3.8.0/envs/airbnb_predict_first_booking/lib/python3.8/site-packages/sklearn/metrics/_classification.py:1248: UndefinedMetricWarning: Precision and F-score are ill-defined and being set to 0.0 in labels with no predicted samples. Use `zero_division` parameter to control this behavior.\n",
      "  _warn_prf(average, modifier, msg_start, len(result))\n"
     ]
    },
    {
     "name": "stdout",
     "output_type": "stream",
     "text": [
      "              precision    recall  f1-score   support\n",
      "\n",
      "          AU       0.00      0.00      0.00       101\n",
      "          CA       0.00      0.00      0.00       214\n",
      "          DE       0.00      0.00      0.00       170\n",
      "          ES       0.00      0.00      0.00       345\n",
      "          FR       0.00      0.00      0.00       710\n",
      "          GB       0.00      0.00      0.00       344\n",
      "          IT       0.00      0.00      0.00       423\n",
      "          NL       0.00      0.00      0.00       128\n",
      "          PT       0.00      0.00      0.00        36\n",
      "          US       0.71      1.00      0.83      9624\n",
      "       other       0.07      0.00      0.00      1540\n",
      "\n",
      "    accuracy                           0.70     13635\n",
      "   macro avg       0.07      0.09      0.08     13635\n",
      "weighted avg       0.51      0.70      0.58     13635\n",
      "\n"
     ]
    },
    {
     "data": {
      "text/plain": [
       "<AxesSubplot:title={'center':'Confusion Matrix'}, xlabel='Predicted label', ylabel='True label'>"
      ]
     },
     "execution_count": 48,
     "metadata": {},
     "output_type": "execute_result"
    },
    {
     "data": {
      "image/png": "[encoded data removed]",
      "text/plain": [
       "<Figure size 864x864 with 2 Axes>"
      ]
     },
     "metadata": {
      "needs_background": "light"
     },
     "output_type": "display_data"
    }
   ],
   "source": [
    "# accuracy\n",
    "acc_nn = m.accuracy_score(y_test_nn,yhat_nn)\n",
    "print('Accuracy: {}'.format(acc_nn))\n",
    "\n",
    "# Balanced Accuracy\n",
    "balanced_acc_nn = m.balanced_accuracy_score(y_test_nn,yhat_nn)\n",
    "print(f'Balanced Accuracy: {balanced_acc_nn}')\n",
    "\n",
    "# Kappa Metrics\n",
    "kappa_nn = m.cohen_kappa_score(y_test_nn,yhat_nn)\n",
    "print(f'Kappa Score:{kappa_nn}')\n",
    "\n",
    "# Classification Report\n",
    "print(m.classification_report(y_test_nn, yhat_nn))\n",
    "\n",
    "# confusion matrix\n",
    "mt.plot_confusion_matrix(y_test_nn, yhat_nn, normalize=False, figsize = (12,12))\n",
    "\n",
    "\n",
    "\n",
    "# F-Score Balanced\n",
    "# Recall-Precison\n",
    "# ROC \n",
    "# Kappa Metrics\n",
    "# Matthew Metrics"
   ]
  },
  {
   "cell_type": "code",
   "execution_count": null,
   "id": "59ad57d2",
   "metadata": {},
   "outputs": [],
   "source": []
  }
 ],
 "metadata": {
  "kernelspec": {
   "display_name": "Python 3",
   "language": "python",
   "name": "python3"
  },
  "language_info": {
   "codemirror_mode": {
    "name": "ipython",
    "version": 3
   },
   "file_extension": ".py",
   "mimetype": "text/x-python",
   "name": "python",
   "nbconvert_exporter": "python",
   "pygments_lexer": "ipython3",
   "version": "3.8.0"
  }
 },
 "nbformat": 4,
 "nbformat_minor": 5
}
