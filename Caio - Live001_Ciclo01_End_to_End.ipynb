{
 "cells": [
  {
   "cell_type": "markdown",
   "id": "26a45a14",
   "metadata": {
    "heading_collapsed": true
   },
   "source": [
    "# 0.0. Entender o Problema"
   ]
  },
  {
   "cell_type": "markdown",
   "id": "62840d68",
   "metadata": {
    "hidden": true
   },
   "source": [
    "-- Objetivo do Problema: 1.0. Previsao do primeiro destino que um usuário irá escolher\n",
    "\n",
    "    -- Porque?\n",
    "        -- Qual o tipo de modelo de negócio do Airbnb?\n",
    "            -- Marketplace (Conectar pessoas que oferecem acomodações com pessoas que estão procurando acomodações)\n",
    "            \n",
    "            -- Oferta (pessoas oferecendo acomodações)\n",
    "                -- Tamanho do portfólio\n",
    "                -- Diversidade/Densidade do portfólio\n",
    "                -- Preço Médio\n",
    "            \n",
    "            -- Demanda (pessoas procurando acomodações)\n",
    "                -- Número de Usuários\n",
    "                -- LTV (Lifetime Value)\n",
    "                -- CAC (Cliente Acquisition Cost)\n",
    "                \n",
    "            -- Gross Revenue = (Fee*Numero cliente) - CAC\n",
    "            \n",
    "    -- Proposta de Solução\n",
    "        -- Modelo de Previsão do primeiro destino de um novo usuário\n",
    "        -- 1.0. Predições e salva em tabela de banco de dados\n",
    "        -- 2.0 API\n",
    "            -- Input: Usuário e Suas Características\n",
    "            -- Output: Usuário e Suas características com a predição do destino.\n",
    "            \n",
    "       "
   ]
  },
  {
   "cell_type": "markdown",
   "id": "53d5a4b3",
   "metadata": {
    "ExecuteTime": {
     "end_time": "2021-06-02T16:27:20.425503Z",
     "start_time": "2021-06-02T16:27:20.421064Z"
    }
   },
   "source": [
    "# Ciclo 01: End to End"
   ]
  },
  {
   "cell_type": "markdown",
   "id": "9fb3a3e3",
   "metadata": {},
   "source": [
    "## 0.0 Imports"
   ]
  },
  {
   "cell_type": "markdown",
   "id": "6ec09cbd",
   "metadata": {
    "ExecuteTime": {
     "end_time": "2021-06-02T16:30:03.544281Z",
     "start_time": "2021-06-02T16:30:03.539917Z"
    }
   },
   "source": [
    "### 0.1 Helper Functions"
   ]
  },
  {
   "cell_type": "code",
   "execution_count": 82,
   "id": "18b02472",
   "metadata": {
    "ExecuteTime": {
     "end_time": "2021-06-02T21:11:53.368754Z",
     "start_time": "2021-06-02T21:11:53.127359Z"
    }
   },
   "outputs": [],
   "source": [
    "import pandas as pd\n",
    "from sklearn import model_selection as ms\n",
    "from sklearn import preprocessing as pp\n",
    "from sklearn import metrics as m\n",
    "from scikitplot import metrics as mt\n",
    "from keras  import models as ml\n",
    "from keras import layers as l"
   ]
  },
  {
   "cell_type": "markdown",
   "id": "83bcab6e",
   "metadata": {},
   "source": [
    "### 0.2 Loading Data"
   ]
  },
  {
   "cell_type": "code",
   "execution_count": 5,
   "id": "c9ed13c3",
   "metadata": {
    "ExecuteTime": {
     "end_time": "2021-06-02T16:31:04.669608Z",
     "start_time": "2021-06-02T16:31:04.551270Z"
    }
   },
   "outputs": [
    {
     "name": "stdout",
     "output_type": "stream",
     "text": [
      "total 4168\r\n",
      "4168 training_users.csv.zip\r\n"
     ]
    }
   ],
   "source": [
    "!ls -s data_set"
   ]
  },
  {
   "cell_type": "code",
   "execution_count": 4,
   "id": "3254c73e",
   "metadata": {
    "ExecuteTime": {
     "end_time": "2021-06-02T18:57:14.691276Z",
     "start_time": "2021-06-02T18:57:13.904510Z"
    }
   },
   "outputs": [
    {
     "data": {
      "text/plain": [
       "(213451, 16)"
      ]
     },
     "execution_count": 4,
     "metadata": {},
     "output_type": "execute_result"
    }
   ],
   "source": [
    "df_raw = pd.read_csv('data_set/training_users.csv', low_memory = True)\n",
    "df_raw.shape"
   ]
  },
  {
   "cell_type": "code",
   "execution_count": 9,
   "id": "f1b654da",
   "metadata": {
    "ExecuteTime": {
     "end_time": "2021-06-02T19:17:45.338276Z",
     "start_time": "2021-06-02T19:17:45.333539Z"
    }
   },
   "outputs": [],
   "source": [
    "#df_sessions = pd.read_csv('data_set/sessions.csv', low_memory=True)\n",
    "#df_sessions.shape\n",
    "\n",
    "#-- Preciso fazer uma granularidade do tipo Usuário/Seção ou só Usuário\n",
    "\n",
    "#-- O número de usuários por granularidade\n",
    "\n",
    "#df_sessions.sort_values('user_id').head()\n",
    "#ordena por usuário e lista os primeiros\n",
    "\n",
    "#df_sessions(df_sessions['user_id']=='00023iyk91')[['user_id','action']].groupby('user_id').count()\n",
    "\n",
    "#Vai mostrar quantas ações foi feita pelo usuário.\n",
    "\n",
    "#df_sessions(df_sessions['user_id']=='00023iyk91')[['user_id','action']].groupby('user_id').value_counts()\n",
    "#conta quantas linhas eu tenho por usuário e por ação.\n",
    "\n",
    "#Voltamos depois nesses dados."
   ]
  },
  {
   "cell_type": "markdown",
   "id": "45ff58e9",
   "metadata": {
    "ExecuteTime": {
     "end_time": "2021-06-02T16:28:58.103598Z",
     "start_time": "2021-06-02T16:28:58.098617Z"
    }
   },
   "source": [
    "## 1.0 Data Description"
   ]
  },
  {
   "cell_type": "code",
   "execution_count": 10,
   "id": "54e7d291",
   "metadata": {
    "ExecuteTime": {
     "end_time": "2021-06-02T19:18:19.811683Z",
     "start_time": "2021-06-02T19:18:19.790139Z"
    }
   },
   "outputs": [],
   "source": [
    "df1 = df_raw.copy()"
   ]
  },
  {
   "cell_type": "code",
   "execution_count": 12,
   "id": "23705477",
   "metadata": {
    "ExecuteTime": {
     "end_time": "2021-06-02T19:18:45.084511Z",
     "start_time": "2021-06-02T19:18:45.076296Z"
    }
   },
   "outputs": [
    {
     "name": "stdout",
     "output_type": "stream",
     "text": [
      "Number of rows: 213451\n",
      "Number of columns: 16\n"
     ]
    }
   ],
   "source": [
    "print('Number of rows: {}'.format(df1.shape[0]))\n",
    "print('Number of columns: {}'.format(df1.shape[1]))"
   ]
  },
  {
   "cell_type": "markdown",
   "id": "cb963f69",
   "metadata": {
    "heading_collapsed": true
   },
   "source": [
    "#### 1.1 Data Type"
   ]
  },
  {
   "cell_type": "code",
   "execution_count": 13,
   "id": "64abc5e7",
   "metadata": {
    "ExecuteTime": {
     "end_time": "2021-06-02T19:19:56.716048Z",
     "start_time": "2021-06-02T19:19:56.706229Z"
    },
    "hidden": true
   },
   "outputs": [
    {
     "data": {
      "text/plain": [
       "id                          object\n",
       "date_account_created        object\n",
       "timestamp_first_active       int64\n",
       "date_first_booking          object\n",
       "gender                      object\n",
       "age                        float64\n",
       "signup_method               object\n",
       "signup_flow                  int64\n",
       "language                    object\n",
       "affiliate_channel           object\n",
       "affiliate_provider          object\n",
       "first_affiliate_tracked     object\n",
       "signup_app                  object\n",
       "first_device_type           object\n",
       "first_browser               object\n",
       "country_destination         object\n",
       "dtype: object"
      ]
     },
     "execution_count": 13,
     "metadata": {},
     "output_type": "execute_result"
    }
   ],
   "source": [
    "df1.dtypes"
   ]
  },
  {
   "cell_type": "markdown",
   "id": "934143af",
   "metadata": {
    "heading_collapsed": true
   },
   "source": [
    "#### 1.2 NA Check"
   ]
  },
  {
   "cell_type": "code",
   "execution_count": 14,
   "id": "de33c0dd",
   "metadata": {
    "ExecuteTime": {
     "end_time": "2021-06-02T19:21:27.209732Z",
     "start_time": "2021-06-02T19:21:27.071056Z"
    },
    "hidden": true
   },
   "outputs": [
    {
     "data": {
      "text/plain": [
       "id                              0\n",
       "date_account_created            0\n",
       "timestamp_first_active          0\n",
       "date_first_booking         124543\n",
       "gender                          0\n",
       "age                         87990\n",
       "signup_method                   0\n",
       "signup_flow                     0\n",
       "language                        0\n",
       "affiliate_channel               0\n",
       "affiliate_provider              0\n",
       "first_affiliate_tracked      6065\n",
       "signup_app                      0\n",
       "first_device_type               0\n",
       "first_browser                   0\n",
       "country_destination             0\n",
       "dtype: int64"
      ]
     },
     "execution_count": 14,
     "metadata": {},
     "output_type": "execute_result"
    }
   ],
   "source": [
    "df1.isna().sum()"
   ]
  },
  {
   "cell_type": "code",
   "execution_count": 16,
   "id": "56071e14",
   "metadata": {
    "ExecuteTime": {
     "end_time": "2021-06-02T19:24:29.888086Z",
     "start_time": "2021-06-02T19:24:29.808815Z"
    },
    "hidden": true
   },
   "outputs": [
    {
     "data": {
      "text/plain": [
       "(68171, 16)"
      ]
     },
     "execution_count": 16,
     "metadata": {},
     "output_type": "execute_result"
    }
   ],
   "source": [
    "# Removendo dados faltantes\n",
    "df1 = df1.dropna()\n",
    "df1.shape"
   ]
  },
  {
   "cell_type": "markdown",
   "id": "c72293d7",
   "metadata": {
    "heading_collapsed": true
   },
   "source": [
    "#### 1.3 Change Data Type"
   ]
  },
  {
   "cell_type": "code",
   "execution_count": 26,
   "id": "7e3632f9",
   "metadata": {
    "ExecuteTime": {
     "end_time": "2021-06-02T19:56:05.307920Z",
     "start_time": "2021-06-02T19:56:04.999494Z"
    },
    "hidden": true
   },
   "outputs": [],
   "source": [
    "# date_account_created\n",
    "df1['date_account_created'] = pd.to_datetime( df1['date_account_created'] )\n",
    "\n",
    "\n",
    "# timestamp_first_active\n",
    "df1['timestamp_first_active'] = pd.to_datetime(df1['timestamp_first_active'],format='%Y%m%d%H%M%S')\n",
    "\n",
    "# date_first_booking\n",
    "df1['date_first_booking'] = pd.to_datetime(df1['date_first_booking'])\n",
    "\n",
    "# age\n",
    "df1['age'] = df1['age'].astype(int)"
   ]
  },
  {
   "cell_type": "markdown",
   "id": "d3d0b038",
   "metadata": {
    "heading_collapsed": true
   },
   "source": [
    "#### 1.4 Check Balanced Data"
   ]
  },
  {
   "cell_type": "code",
   "execution_count": 28,
   "id": "07d1a88d",
   "metadata": {
    "ExecuteTime": {
     "end_time": "2021-06-02T19:56:52.299235Z",
     "start_time": "2021-06-02T19:56:52.271030Z"
    },
    "hidden": true
   },
   "outputs": [
    {
     "data": {
      "text/plain": [
       "US       0.708864\n",
       "other    0.110854\n",
       "FR       0.054085\n",
       "IT       0.029763\n",
       "GB       0.025935\n",
       "ES       0.024864\n",
       "CA       0.015696\n",
       "DE       0.012454\n",
       "NL       0.008801\n",
       "AU       0.006366\n",
       "PT       0.002318\n",
       "Name: country_destination, dtype: float64"
      ]
     },
     "execution_count": 28,
     "metadata": {},
     "output_type": "execute_result"
    }
   ],
   "source": [
    "df1['country_destination'].value_counts(normalize=True)"
   ]
  },
  {
   "cell_type": "markdown",
   "id": "50f607e4",
   "metadata": {},
   "source": [
    "## 2.0. Data Filtering"
   ]
  },
  {
   "cell_type": "code",
   "execution_count": 29,
   "id": "cb88de19",
   "metadata": {
    "ExecuteTime": {
     "end_time": "2021-06-02T20:02:31.471498Z",
     "start_time": "2021-06-02T20:02:31.462748Z"
    }
   },
   "outputs": [],
   "source": [
    "df2 = df1.copy()"
   ]
  },
  {
   "cell_type": "markdown",
   "id": "7a35daaa",
   "metadata": {},
   "source": [
    "#### 2.1 Filtering Rows"
   ]
  },
  {
   "cell_type": "code",
   "execution_count": null,
   "id": "42a55f48",
   "metadata": {},
   "outputs": [],
   "source": []
  },
  {
   "cell_type": "markdown",
   "id": "22230cde",
   "metadata": {},
   "source": [
    "#### 2.2 Columns Selection"
   ]
  },
  {
   "cell_type": "code",
   "execution_count": null,
   "id": "cf3baa91",
   "metadata": {},
   "outputs": [],
   "source": []
  },
  {
   "cell_type": "markdown",
   "id": "ba035f34",
   "metadata": {},
   "source": [
    "## 3.0 Data Preparation"
   ]
  },
  {
   "cell_type": "code",
   "execution_count": 31,
   "id": "e4e8f4e5",
   "metadata": {
    "ExecuteTime": {
     "end_time": "2021-06-02T20:30:29.701815Z",
     "start_time": "2021-06-02T20:30:29.693782Z"
    }
   },
   "outputs": [],
   "source": [
    "df3 = df2.copy()"
   ]
  },
  {
   "cell_type": "code",
   "execution_count": 67,
   "id": "e3e483f4",
   "metadata": {
    "ExecuteTime": {
     "end_time": "2021-06-02T20:59:59.113312Z",
     "start_time": "2021-06-02T20:59:59.006392Z"
    }
   },
   "outputs": [],
   "source": [
    "# Dummy variable\n",
    "df3_dummy = pd.get_dummies(df3.drop(['id', 'country_destination'], axis = 1))\n",
    "\n",
    "#Join id and country destination\n",
    "df3 = pd.concat([df3[['id', 'country_destination']], df3_dummy], axis = 1)"
   ]
  },
  {
   "cell_type": "markdown",
   "id": "38f06b77",
   "metadata": {},
   "source": [
    "## 4.0 Feature Selection"
   ]
  },
  {
   "cell_type": "code",
   "execution_count": 68,
   "id": "b7e7a87b",
   "metadata": {
    "ExecuteTime": {
     "end_time": "2021-06-02T21:00:04.631060Z",
     "start_time": "2021-06-02T21:00:04.613201Z"
    }
   },
   "outputs": [],
   "source": [
    "cols_drop=['date_account_created', 'timestamp_first_active', 'date_first_booking'] #original dates\n",
    "df4 = df3.drop(cols_drop, axis = 1)"
   ]
  },
  {
   "cell_type": "code",
   "execution_count": 33,
   "id": "d544377a",
   "metadata": {
    "ExecuteTime": {
     "end_time": "2021-06-02T20:30:49.046342Z",
     "start_time": "2021-06-02T20:30:49.025328Z"
    }
   },
   "outputs": [
    {
     "data": {
      "text/html": [
       "<div>\n",
       "<style scoped>\n",
       "    .dataframe tbody tr th:only-of-type {\n",
       "        vertical-align: middle;\n",
       "    }\n",
       "\n",
       "    .dataframe tbody tr th {\n",
       "        vertical-align: top;\n",
       "    }\n",
       "\n",
       "    .dataframe thead th {\n",
       "        text-align: right;\n",
       "    }\n",
       "</style>\n",
       "<table border=\"1\" class=\"dataframe\">\n",
       "  <thead>\n",
       "    <tr style=\"text-align: right;\">\n",
       "      <th></th>\n",
       "      <th>112523</th>\n",
       "    </tr>\n",
       "  </thead>\n",
       "  <tbody>\n",
       "    <tr>\n",
       "      <th>id</th>\n",
       "      <td>kd5ds0hs7k</td>\n",
       "    </tr>\n",
       "    <tr>\n",
       "      <th>gender</th>\n",
       "      <td>FEMALE</td>\n",
       "    </tr>\n",
       "    <tr>\n",
       "      <th>age</th>\n",
       "      <td>30</td>\n",
       "    </tr>\n",
       "    <tr>\n",
       "      <th>signup_method</th>\n",
       "      <td>facebook</td>\n",
       "    </tr>\n",
       "    <tr>\n",
       "      <th>signup_flow</th>\n",
       "      <td>0</td>\n",
       "    </tr>\n",
       "    <tr>\n",
       "      <th>language</th>\n",
       "      <td>en</td>\n",
       "    </tr>\n",
       "    <tr>\n",
       "      <th>affiliate_channel</th>\n",
       "      <td>direct</td>\n",
       "    </tr>\n",
       "    <tr>\n",
       "      <th>affiliate_provider</th>\n",
       "      <td>direct</td>\n",
       "    </tr>\n",
       "    <tr>\n",
       "      <th>first_affiliate_tracked</th>\n",
       "      <td>untracked</td>\n",
       "    </tr>\n",
       "    <tr>\n",
       "      <th>signup_app</th>\n",
       "      <td>Web</td>\n",
       "    </tr>\n",
       "    <tr>\n",
       "      <th>first_device_type</th>\n",
       "      <td>Windows Desktop</td>\n",
       "    </tr>\n",
       "    <tr>\n",
       "      <th>first_browser</th>\n",
       "      <td>Chrome</td>\n",
       "    </tr>\n",
       "    <tr>\n",
       "      <th>country_destination</th>\n",
       "      <td>US</td>\n",
       "    </tr>\n",
       "  </tbody>\n",
       "</table>\n",
       "</div>"
      ],
      "text/plain": [
       "                                  112523\n",
       "id                            kd5ds0hs7k\n",
       "gender                            FEMALE\n",
       "age                                   30\n",
       "signup_method                   facebook\n",
       "signup_flow                            0\n",
       "language                              en\n",
       "affiliate_channel                 direct\n",
       "affiliate_provider                direct\n",
       "first_affiliate_tracked        untracked\n",
       "signup_app                           Web\n",
       "first_device_type        Windows Desktop\n",
       "first_browser                     Chrome\n",
       "country_destination                   US"
      ]
     },
     "execution_count": 33,
     "metadata": {},
     "output_type": "execute_result"
    }
   ],
   "source": [
    "df4.sample().T"
   ]
  },
  {
   "cell_type": "code",
   "execution_count": 69,
   "id": "3b8c148a",
   "metadata": {
    "ExecuteTime": {
     "end_time": "2021-06-02T21:00:11.718979Z",
     "start_time": "2021-06-02T21:00:11.700983Z"
    }
   },
   "outputs": [],
   "source": [
    "X = df4.drop('country_destination', axis = 1)\n",
    "y = df4['country_destination'].copy()"
   ]
  },
  {
   "cell_type": "code",
   "execution_count": 70,
   "id": "020ea2d6",
   "metadata": {
    "ExecuteTime": {
     "end_time": "2021-06-02T21:00:12.209121Z",
     "start_time": "2021-06-02T21:00:12.182854Z"
    }
   },
   "outputs": [],
   "source": [
    "ohe = pp.OneHotEncoder()\n",
    "y_train_nn = ohe.fit_transform(y_train.values.reshape(-1,1)).toarray()"
   ]
  },
  {
   "cell_type": "markdown",
   "id": "7c76cc7a",
   "metadata": {},
   "source": [
    "## 5.0 Machine Learning Model - Neural Network MLP"
   ]
  },
  {
   "cell_type": "code",
   "execution_count": 71,
   "id": "6f74299c",
   "metadata": {
    "ExecuteTime": {
     "end_time": "2021-06-02T21:00:15.534318Z",
     "start_time": "2021-06-02T21:00:15.413042Z"
    }
   },
   "outputs": [],
   "source": [
    "#Split dataset into training and test\n",
    "\n",
    "X_train, X_test, y_train, y_test = ms.train_test_split (X,y, test_size = 0.2, random_state = 32)"
   ]
  },
  {
   "cell_type": "code",
   "execution_count": 72,
   "id": "af97314d",
   "metadata": {
    "ExecuteTime": {
     "end_time": "2021-06-02T21:00:20.999032Z",
     "start_time": "2021-06-02T21:00:20.983567Z"
    }
   },
   "outputs": [],
   "source": [
    "x_train = X_train.drop('id', axis = 1)\n",
    "x_test = X_test.drop('id', axis = 1)"
   ]
  },
  {
   "cell_type": "code",
   "execution_count": 73,
   "id": "f7eb924a",
   "metadata": {
    "ExecuteTime": {
     "end_time": "2021-06-02T21:00:21.561225Z",
     "start_time": "2021-06-02T21:00:21.552330Z"
    }
   },
   "outputs": [
    {
     "data": {
      "text/plain": [
       "(54536, 112)"
      ]
     },
     "execution_count": 73,
     "metadata": {},
     "output_type": "execute_result"
    }
   ],
   "source": [
    "x_train.shape"
   ]
  },
  {
   "cell_type": "code",
   "execution_count": 74,
   "id": "bbed18ab",
   "metadata": {
    "ExecuteTime": {
     "end_time": "2021-06-02T21:05:35.918052Z",
     "start_time": "2021-06-02T21:00:22.150395Z"
    }
   },
   "outputs": [
    {
     "name": "stdout",
     "output_type": "stream",
     "text": [
      "Epoch 1/100\n",
      "1705/1705 [==============================] - 18s 2ms/step - loss: 1.3691 - accuracy: 0.7060\n",
      "Epoch 2/100\n",
      "1705/1705 [==============================] - 3s 2ms/step - loss: 1.2705 - accuracy: 0.7055\n",
      "Epoch 3/100\n",
      "1705/1705 [==============================] - 3s 2ms/step - loss: 1.2426 - accuracy: 0.7062\n",
      "Epoch 4/100\n",
      "1705/1705 [==============================] - 3s 2ms/step - loss: 1.2235 - accuracy: 0.7064\n",
      "Epoch 5/100\n",
      "1705/1705 [==============================] - 3s 2ms/step - loss: 1.1901 - accuracy: 0.7067\n",
      "Epoch 6/100\n",
      "1705/1705 [==============================] - 3s 2ms/step - loss: 1.1810 - accuracy: 0.7088\n",
      "Epoch 7/100\n",
      "1705/1705 [==============================] - 3s 2ms/step - loss: 1.1673 - accuracy: 0.7073\n",
      "Epoch 8/100\n",
      "1705/1705 [==============================] - 3s 2ms/step - loss: 1.1424 - accuracy: 0.7094\n",
      "Epoch 9/100\n",
      "1705/1705 [==============================] - 3s 2ms/step - loss: 1.1456 - accuracy: 0.7075\n",
      "Epoch 10/100\n",
      "1705/1705 [==============================] - 3s 2ms/step - loss: 1.1399 - accuracy: 0.7084\n",
      "Epoch 11/100\n",
      "1705/1705 [==============================] - 3s 2ms/step - loss: 1.1300 - accuracy: 0.7102\n",
      "Epoch 12/100\n",
      "1705/1705 [==============================] - 3s 2ms/step - loss: 1.1357 - accuracy: 0.7075\n",
      "Epoch 13/100\n",
      "1705/1705 [==============================] - 3s 2ms/step - loss: 1.1236 - accuracy: 0.7111\n",
      "Epoch 14/100\n",
      "1705/1705 [==============================] - 3s 2ms/step - loss: 1.1218 - accuracy: 0.7125\n",
      "Epoch 15/100\n",
      "1705/1705 [==============================] - 3s 2ms/step - loss: 1.1314 - accuracy: 0.7084\n",
      "Epoch 16/100\n",
      "1705/1705 [==============================] - 3s 2ms/step - loss: 1.1275 - accuracy: 0.7091\n",
      "Epoch 17/100\n",
      "1705/1705 [==============================] - 3s 2ms/step - loss: 1.1207 - accuracy: 0.7115\n",
      "Epoch 18/100\n",
      "1705/1705 [==============================] - 3s 2ms/step - loss: 1.1270 - accuracy: 0.7092\n",
      "Epoch 19/100\n",
      "1705/1705 [==============================] - 3s 2ms/step - loss: 1.1253 - accuracy: 0.7092\n",
      "Epoch 20/100\n",
      "1705/1705 [==============================] - 3s 2ms/step - loss: 1.1206 - accuracy: 0.7115\n",
      "Epoch 21/100\n",
      "1705/1705 [==============================] - 3s 2ms/step - loss: 1.1170 - accuracy: 0.7105\n",
      "Epoch 22/100\n",
      "1705/1705 [==============================] - 3s 1ms/step - loss: 1.1297 - accuracy: 0.7070\n",
      "Epoch 23/100\n",
      "1705/1705 [==============================] - 3s 2ms/step - loss: 1.1329 - accuracy: 0.7053\n",
      "Epoch 24/100\n",
      "1705/1705 [==============================] - 3s 2ms/step - loss: 1.1221 - accuracy: 0.7102\n",
      "Epoch 25/100\n",
      "1705/1705 [==============================] - 3s 1ms/step - loss: 1.1300 - accuracy: 0.7067\n",
      "Epoch 26/100\n",
      "1705/1705 [==============================] - 3s 1ms/step - loss: 1.1114 - accuracy: 0.7124\n",
      "Epoch 27/100\n",
      "1705/1705 [==============================] - 3s 2ms/step - loss: 1.1294 - accuracy: 0.7077\n",
      "Epoch 28/100\n",
      "1705/1705 [==============================] - 3s 1ms/step - loss: 1.1246 - accuracy: 0.7076\n",
      "Epoch 29/100\n",
      "1705/1705 [==============================] - 3s 2ms/step - loss: 1.1170 - accuracy: 0.7091\n",
      "Epoch 30/100\n",
      "1705/1705 [==============================] - 3s 1ms/step - loss: 1.1078 - accuracy: 0.7110\n",
      "Epoch 31/100\n",
      "1705/1705 [==============================] - 3s 2ms/step - loss: 1.1066 - accuracy: 0.7138\n",
      "Epoch 32/100\n",
      "1705/1705 [==============================] - 3s 1ms/step - loss: 1.1130 - accuracy: 0.7097\n",
      "Epoch 33/100\n",
      "1705/1705 [==============================] - 3s 1ms/step - loss: 1.1125 - accuracy: 0.7113\n",
      "Epoch 34/100\n",
      "1705/1705 [==============================] - 3s 2ms/step - loss: 1.1107 - accuracy: 0.7109\n",
      "Epoch 35/100\n",
      "1705/1705 [==============================] - 3s 2ms/step - loss: 1.1123 - accuracy: 0.7107\n",
      "Epoch 36/100\n",
      "1705/1705 [==============================] - 3s 2ms/step - loss: 1.1104 - accuracy: 0.7103\n",
      "Epoch 37/100\n",
      "1705/1705 [==============================] - 3s 2ms/step - loss: 1.1110 - accuracy: 0.7098\n",
      "Epoch 38/100\n",
      "1705/1705 [==============================] - 3s 2ms/step - loss: 1.1123 - accuracy: 0.7095\n",
      "Epoch 39/100\n",
      "1705/1705 [==============================] - 3s 2ms/step - loss: 1.1206 - accuracy: 0.7073\n",
      "Epoch 40/100\n",
      "1705/1705 [==============================] - 2s 1ms/step - loss: 1.0978 - accuracy: 0.7142\n",
      "Epoch 41/100\n",
      "1705/1705 [==============================] - 2s 1ms/step - loss: 1.0987 - accuracy: 0.7134\n",
      "Epoch 42/100\n",
      "1705/1705 [==============================] - 3s 2ms/step - loss: 1.1126 - accuracy: 0.7090\n",
      "Epoch 43/100\n",
      "1705/1705 [==============================] - 3s 1ms/step - loss: 1.1090 - accuracy: 0.7104\n",
      "Epoch 44/100\n",
      "1705/1705 [==============================] - 2s 1ms/step - loss: 1.1098 - accuracy: 0.7099\n",
      "Epoch 45/100\n",
      "1705/1705 [==============================] - 2s 1ms/step - loss: 1.1045 - accuracy: 0.7119\n",
      "Epoch 46/100\n",
      "1705/1705 [==============================] - 2s 1ms/step - loss: 1.1017 - accuracy: 0.7117\n",
      "Epoch 47/100\n",
      "1705/1705 [==============================] - 2s 1ms/step - loss: 1.1016 - accuracy: 0.7143\n",
      "Epoch 48/100\n",
      "1705/1705 [==============================] - 2s 1ms/step - loss: 1.1040 - accuracy: 0.7120\n",
      "Epoch 49/100\n",
      "1705/1705 [==============================] - 3s 2ms/step - loss: 1.1071 - accuracy: 0.7121\n",
      "Epoch 50/100\n",
      "1705/1705 [==============================] - 3s 2ms/step - loss: 1.1095 - accuracy: 0.7090\n",
      "Epoch 51/100\n",
      "1705/1705 [==============================] - 3s 2ms/step - loss: 1.1051 - accuracy: 0.7120\n",
      "Epoch 52/100\n",
      "1705/1705 [==============================] - 3s 2ms/step - loss: 1.0982 - accuracy: 0.7135\n",
      "Epoch 53/100\n",
      "1705/1705 [==============================] - 3s 2ms/step - loss: 1.1017 - accuracy: 0.7120\n",
      "Epoch 54/100\n",
      "1705/1705 [==============================] - 4s 2ms/step - loss: 1.0978 - accuracy: 0.7134\n",
      "Epoch 55/100\n",
      "1705/1705 [==============================] - 3s 2ms/step - loss: 1.0997 - accuracy: 0.7113\n",
      "Epoch 56/100\n",
      "1705/1705 [==============================] - 3s 2ms/step - loss: 1.1080 - accuracy: 0.7096\n",
      "Epoch 57/100\n",
      "1705/1705 [==============================] - 3s 2ms/step - loss: 1.0996 - accuracy: 0.7128\n",
      "Epoch 58/100\n",
      "1705/1705 [==============================] - 3s 2ms/step - loss: 1.0970 - accuracy: 0.7143\n",
      "Epoch 59/100\n",
      "1705/1705 [==============================] - 3s 2ms/step - loss: 1.0999 - accuracy: 0.7119\n",
      "Epoch 60/100\n",
      "1705/1705 [==============================] - 3s 2ms/step - loss: 1.0984 - accuracy: 0.7115\n",
      "Epoch 61/100\n",
      "1705/1705 [==============================] - 3s 2ms/step - loss: 1.0969 - accuracy: 0.7128\n",
      "Epoch 62/100\n",
      "1705/1705 [==============================] - 3s 2ms/step - loss: 1.1112 - accuracy: 0.7080\n",
      "Epoch 63/100\n",
      "1705/1705 [==============================] - 3s 2ms/step - loss: 1.0992 - accuracy: 0.7108\n",
      "Epoch 64/100\n",
      "1705/1705 [==============================] - 3s 2ms/step - loss: 1.1039 - accuracy: 0.7105\n",
      "Epoch 65/100\n",
      "1705/1705 [==============================] - 3s 2ms/step - loss: 1.1017 - accuracy: 0.7089\n",
      "Epoch 66/100\n",
      "1705/1705 [==============================] - 3s 2ms/step - loss: 1.1094 - accuracy: 0.7090\n",
      "Epoch 67/100\n",
      "1705/1705 [==============================] - 5s 3ms/step - loss: 1.0919 - accuracy: 0.7141\n",
      "Epoch 68/100\n",
      "1705/1705 [==============================] - 5s 3ms/step - loss: 1.1023 - accuracy: 0.7110\n",
      "Epoch 69/100\n",
      "1705/1705 [==============================] - 3s 2ms/step - loss: 1.0967 - accuracy: 0.7127\n",
      "Epoch 70/100\n",
      "1705/1705 [==============================] - 4s 2ms/step - loss: 1.1106 - accuracy: 0.7077\n",
      "Epoch 71/100\n",
      "1705/1705 [==============================] - 4s 2ms/step - loss: 1.0965 - accuracy: 0.7122\n",
      "Epoch 72/100\n",
      "1705/1705 [==============================] - 4s 2ms/step - loss: 1.1033 - accuracy: 0.7095\n",
      "Epoch 73/100\n",
      "1705/1705 [==============================] - 3s 2ms/step - loss: 1.0970 - accuracy: 0.7124\n",
      "Epoch 74/100\n",
      "1705/1705 [==============================] - 4s 2ms/step - loss: 1.1036 - accuracy: 0.7098\n",
      "Epoch 75/100\n",
      "1705/1705 [==============================] - 4s 3ms/step - loss: 1.0908 - accuracy: 0.7139\n",
      "Epoch 76/100\n",
      "1705/1705 [==============================] - 4s 3ms/step - loss: 1.0981 - accuracy: 0.7111\n",
      "Epoch 77/100\n",
      "1705/1705 [==============================] - 3s 2ms/step - loss: 1.0931 - accuracy: 0.7123\n",
      "Epoch 78/100\n",
      "1705/1705 [==============================] - 4s 2ms/step - loss: 1.0843 - accuracy: 0.7156\n",
      "Epoch 79/100\n"
     ]
    },
    {
     "name": "stdout",
     "output_type": "stream",
     "text": [
      "1705/1705 [==============================] - 3s 2ms/step - loss: 1.0948 - accuracy: 0.7120\n",
      "Epoch 80/100\n",
      "1705/1705 [==============================] - 3s 2ms/step - loss: 1.0934 - accuracy: 0.7119\n",
      "Epoch 81/100\n",
      "1705/1705 [==============================] - 3s 2ms/step - loss: 1.0948 - accuracy: 0.7128\n",
      "Epoch 82/100\n",
      "1705/1705 [==============================] - 4s 2ms/step - loss: 1.0958 - accuracy: 0.7109\n",
      "Epoch 83/100\n",
      "1705/1705 [==============================] - 3s 2ms/step - loss: 1.0933 - accuracy: 0.7128\n",
      "Epoch 84/100\n",
      "1705/1705 [==============================] - 4s 2ms/step - loss: 1.1046 - accuracy: 0.7089\n",
      "Epoch 85/100\n",
      "1705/1705 [==============================] - 4s 2ms/step - loss: 1.1027 - accuracy: 0.7091\n",
      "Epoch 86/100\n",
      "1705/1705 [==============================] - 4s 2ms/step - loss: 1.0966 - accuracy: 0.7109\n",
      "Epoch 87/100\n",
      "1705/1705 [==============================] - 4s 2ms/step - loss: 1.0967 - accuracy: 0.7126\n",
      "Epoch 88/100\n",
      "1705/1705 [==============================] - 4s 2ms/step - loss: 1.0940 - accuracy: 0.7120\n",
      "Epoch 89/100\n",
      "1705/1705 [==============================] - 3s 2ms/step - loss: 1.0935 - accuracy: 0.7126\n",
      "Epoch 90/100\n",
      "1705/1705 [==============================] - 3s 2ms/step - loss: 1.0839 - accuracy: 0.7152\n",
      "Epoch 91/100\n",
      "1705/1705 [==============================] - 3s 2ms/step - loss: 1.0944 - accuracy: 0.7122\n",
      "Epoch 92/100\n",
      "1705/1705 [==============================] - 3s 2ms/step - loss: 1.1040 - accuracy: 0.7084\n",
      "Epoch 93/100\n",
      "1705/1705 [==============================] - 3s 2ms/step - loss: 1.0993 - accuracy: 0.7088\n",
      "Epoch 94/100\n",
      "1705/1705 [==============================] - 4s 2ms/step - loss: 1.0900 - accuracy: 0.7134\n",
      "Epoch 95/100\n",
      "1705/1705 [==============================] - 3s 2ms/step - loss: 1.0830 - accuracy: 0.7167\n",
      "Epoch 96/100\n",
      "1705/1705 [==============================] - 3s 2ms/step - loss: 1.0861 - accuracy: 0.7149\n",
      "Epoch 97/100\n",
      "1705/1705 [==============================] - 4s 2ms/step - loss: 1.0881 - accuracy: 0.7139\n",
      "Epoch 98/100\n",
      "1705/1705 [==============================] - 3s 2ms/step - loss: 1.0893 - accuracy: 0.7146\n",
      "Epoch 99/100\n",
      "1705/1705 [==============================] - 3s 1ms/step - loss: 1.0902 - accuracy: 0.7129\n",
      "Epoch 100/100\n",
      "1705/1705 [==============================] - 3s 2ms/step - loss: 1.0969 - accuracy: 0.7115\n"
     ]
    },
    {
     "data": {
      "text/plain": [
       "<keras.callbacks.History at 0x7fcd299134c0>"
      ]
     },
     "execution_count": 74,
     "metadata": {},
     "output_type": "execute_result"
    }
   ],
   "source": [
    "#Model Definition\n",
    "\n",
    "model = ml.Sequential()\n",
    "model.add(l.Dense(128, input_dim=x_train.shape[1], activation='relu'))\n",
    "model.add(l.Dense(11, activation='softmax'))\n",
    "\n",
    "#Model Compile\n",
    "model.compile(loss='categorical_crossentropy',optimizer='adam', metrics=['accuracy'])\n",
    "\n",
    "#Train model\n",
    "model.fit(x_train, y_train_nn, epochs = 100)"
   ]
  },
  {
   "cell_type": "code",
   "execution_count": null,
   "id": "fc7288ef",
   "metadata": {},
   "outputs": [],
   "source": []
  },
  {
   "cell_type": "markdown",
   "id": "0ac34375",
   "metadata": {},
   "source": [
    "## 5.0 NN Performance"
   ]
  },
  {
   "cell_type": "code",
   "execution_count": 78,
   "id": "d0a25841",
   "metadata": {
    "ExecuteTime": {
     "end_time": "2021-06-02T21:08:40.459739Z",
     "start_time": "2021-06-02T21:08:40.117967Z"
    }
   },
   "outputs": [],
   "source": [
    "# prediction\n",
    "pred_nn = model.predict(x_test)\n",
    "\n",
    "# invert prediction\n",
    "yhat_nn = ohe.inverse_transform(pred_nn)\n",
    "\n",
    "# prediction prepare\n",
    "y_test_nn = y_test.to_numpy()\n",
    "\n",
    "yhat_nn = yhat_nn.reshape(1,-1)[0]"
   ]
  },
  {
   "cell_type": "code",
   "execution_count": 83,
   "id": "ac01fc89",
   "metadata": {
    "ExecuteTime": {
     "end_time": "2021-06-02T21:12:10.263969Z",
     "start_time": "2021-06-02T21:12:09.413991Z"
    }
   },
   "outputs": [
    {
     "name": "stdout",
     "output_type": "stream",
     "text": [
      "Accuracy: 0.7018701870187019\n"
     ]
    },
    {
     "data": {
      "text/plain": [
       "<AxesSubplot:title={'center':'Confusion Matrix'}, xlabel='Predicted label', ylabel='True label'>"
      ]
     },
     "execution_count": 83,
     "metadata": {},
     "output_type": "execute_result"
    },
    {
     "data": {
      "image/png": "[encoded data removed]",
      "text/plain": [
       "<Figure size 864x864 with 2 Axes>"
      ]
     },
     "metadata": {
      "needs_background": "light"
     },
     "output_type": "display_data"
    }
   ],
   "source": [
    "# accuracy\n",
    "acc_nn = m.accuracy_score(y_test_nn,yhat_nn)\n",
    "print('Accuracy: {}'.format(acc_nn))\n",
    "# confusion matrix\n",
    "mt.plot_confusion_matrix(y_test_nn, yhat_nn, normalize=False, figsize = (12,12))\n",
    "\n",
    "# Balanced Accuray\n",
    "# F-Score Balanced\n",
    "# Recall-Precison\n",
    "# ROC \n",
    "# Kappa Metrics\n",
    "# Matthew Metrics"
   ]
  },
  {
   "cell_type": "code",
   "execution_count": null,
   "id": "59ad57d2",
   "metadata": {},
   "outputs": [],
   "source": []
  }
 ],
 "metadata": {
  "kernelspec": {
   "display_name": "Python 3",
   "language": "python",
   "name": "python3"
  },
  "language_info": {
   "codemirror_mode": {
    "name": "ipython",
    "version": 3
   },
   "file_extension": ".py",
   "mimetype": "text/x-python",
   "name": "python",
   "nbconvert_exporter": "python",
   "pygments_lexer": "ipython3",
   "version": "3.8.0"
  }
 },
 "nbformat": 4,
 "nbformat_minor": 5
}
